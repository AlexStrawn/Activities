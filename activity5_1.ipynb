{
 "cells": [
  {
   "cell_type": "markdown",
   "metadata": {},
   "source": [
    "1. Create a list using the following list of average summer temperatures (in degrees Celsius) and name it 'templist':\n",
    "30, 33, 27, 25"
   ]
  },
  {
   "cell_type": "code",
   "execution_count": 1,
   "metadata": {},
   "outputs": [],
   "source": [
    "# Your Code Here\n",
    "templist = [30,33,27,25]\n",
    "print(templist)"
   ]
  },
  {
   "cell_type": "markdown",
   "metadata": {},
   "source": [
    "2. Create an array using the following list of average summer temperatures (in degrees Celsius) and name it 'temparray':\n",
    "30, 33, 27, 25"
   ]
  },
  {
   "cell_type": "code",
   "execution_count": null,
   "metadata": {},
   "outputs": [],
   "source": [
    "# Your Code Here\n",
    "import numpy as np\n",
    "\n"
   ]
  },
  {
   "cell_type": "markdown",
   "metadata": {},
   "source": [
    "3. Convert templist and temparray to Farenheit. Which one was easier?"
   ]
  },
  {
   "cell_type": "code",
   "execution_count": null,
   "metadata": {},
   "outputs": [],
   "source": [
    "# Your Code Here\n"
   ]
  },
  {
   "cell_type": "markdown",
   "metadata": {},
   "source": [
    "4. Create an array using the following list of summer temperatures:\n",
    "- 85, 77, 87, 93, 105 (NOTE: Numbers are in Farenheit)\n",
    "- 31, 34, 28, (NOTE: Numbers are in Celsius)\n",
    "\n",
    "Concatenate the first array with the second and print the result. The entire array should be in Fareinheit."
   ]
  },
  {
   "cell_type": "code",
   "execution_count": 10,
   "metadata": {},
   "outputs": [
    {
     "name": "stdout",
     "output_type": "stream",
     "text": [
      "[ 85  77  87  93 105  31  34  28]\n"
     ]
    }
   ],
   "source": [
    "# Your Code Here\n",
    "\n",
    "import numpy as np\n",
    "\n",
    "farenheitTemps = np.array([85,77,87,93,105])\n",
    "celsiusTemps = np.array([31,34,28])\n",
    "\n",
    "cel_to_f = celsiusTemps*1.8+32\n",
    "\n",
    "combined_temps = np.concatenate((farenheitTemps, celsiusTemps))\n",
    "print(combined_temps)\n",
    "\n",
    "\n"
   ]
  },
  {
   "cell_type": "markdown",
   "metadata": {},
   "source": [
    "5. Sort the above array from lowest to heighest temperature and print the result"
   ]
  },
  {
   "cell_type": "code",
   "execution_count": 15,
   "metadata": {},
   "outputs": [
    {
     "name": "stdout",
     "output_type": "stream",
     "text": [
      "[ 28  31  34  77  85  87  93 105]\n",
      "105\n"
     ]
    }
   ],
   "source": [
    "# Your Code Here\n",
    "\n",
    "print(np.sort(combined_temps))\n",
    "\n",
    "x = np.sort(combined_temps)\n",
    "print(x[::-1][0])"
   ]
  },
  {
   "cell_type": "markdown",
   "metadata": {},
   "source": [
    "6. Calculate the mean, median, and standard deviation of temparray. Print the results."
   ]
  },
  {
   "cell_type": "code",
   "execution_count": null,
   "metadata": {},
   "outputs": [],
   "source": [
    "# Your Code Here\n",
    "\n"
   ]
  },
  {
   "cell_type": "markdown",
   "metadata": {},
   "source": [
    "7. Create a 3x3 matrix with the following values: \n",
    "2, 4, 6\n",
    "1, 3, 5\n",
    "7, 9, 11"
   ]
  },
  {
   "cell_type": "code",
   "execution_count": 24,
   "metadata": {},
   "outputs": [
    {
     "name": "stdout",
     "output_type": "stream",
     "text": [
      "[[ 2  4  6]\n",
      " [ 1  3  5]\n",
      " [ 7  9 11]]\n",
      "The shape of this matrix is...  (3, 3)\n"
     ]
    }
   ],
   "source": [
    "# Your Code Here\n",
    "import numpy as np\n",
    "\n",
    "matrix = np.mat([[2,4,6],[1,3,5],[7,9,11]])\n",
    "print(matrix)\n",
    "print(\"The shape of this matrix is... \" , matrix.shape)"
   ]
  },
  {
   "cell_type": "markdown",
   "metadata": {},
   "source": [
    "8. Create an array named 'evenNumbers' containing all even numbers from 2 to 20 (inclusive) using Numpy's arange method."
   ]
  },
  {
   "cell_type": "code",
   "execution_count": 16,
   "metadata": {},
   "outputs": [
    {
     "name": "stdout",
     "output_type": "stream",
     "text": [
      "[ 2  4  6  8 10 12 14 16 18 20]\n"
     ]
    }
   ],
   "source": [
    "# Your Code Here\n",
    "import numpy as np\n",
    "\n",
    "evenNumbers = np.arange(2,21,2)\n",
    "print(evenNumbers)"
   ]
  },
  {
   "cell_type": "markdown",
   "metadata": {},
   "source": [
    "9. Reshape the 'evenNumbers' array into a 5x2 matrix and print the result."
   ]
  },
  {
   "cell_type": "code",
   "execution_count": 18,
   "metadata": {},
   "outputs": [
    {
     "name": "stdout",
     "output_type": "stream",
     "text": [
      "[[ 2  4]\n",
      " [ 6  8]\n",
      " [10 12]\n",
      " [14 16]\n",
      " [18 20]]\n"
     ]
    }
   ],
   "source": [
    "# Your Code Here\n",
    "\n",
    "new_even_numbers = evenNumbers.reshape(5,2)\n",
    "print(new_even_numbers)"
   ]
  }
 ],
 "metadata": {
  "kernelspec": {
   "display_name": "Python 3",
   "language": "python",
   "name": "python3"
  },
  "language_info": {
   "codemirror_mode": {
    "name": "ipython",
    "version": 3
   },
   "file_extension": ".py",
   "mimetype": "text/x-python",
   "name": "python",
   "nbconvert_exporter": "python",
   "pygments_lexer": "ipython3",
   "version": "3.11.4"
  },
  "orig_nbformat": 4
 },
 "nbformat": 4,
 "nbformat_minor": 2
}
