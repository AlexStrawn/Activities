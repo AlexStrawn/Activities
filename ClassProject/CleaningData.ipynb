{
 "cells": [
  {
   "cell_type": "code",
   "execution_count": null,
   "metadata": {},
   "outputs": [],
   "source": [
    "import pandas as pd \n",
    "import numpy as np\n",
    "\n",
    "# CALLING ALL CSV FILES WE WILL BE CLEANING \n",
    "gasPrices = pd.read_csv(\"./gas_price_by_state.csv\")\n",
    "h08 = pd.read_csv(\"./h08.csv\")\n",
    "evIncentives = pd.read_csv(\"./EVIncentivesbyState.csv\")\n",
    "evRegMerged = pd.read_csv(\"./EVRegMerged.csv\")\n",
    "\n",
    "# # Working with gasPrices csv file\n",
    "# ##################################\n",
    "\n",
    "df_gas_prices = pd.DataFrame(gasPrices)\n",
    "df_gas_prices.reset_index(drop= True, inplace= True)\n",
    "df_gas_prices['Unnamed: 0'] = range(1,52)\n",
    "df_gas_prices.rename(columns= {'Unnamed: 0': 'stateID'}, inplace = True)\n",
    "df_gas_prices\n",
    "# Saving the cleaned csv file\n",
    "# df_gas_prices.to_csv('cleaned_gas_price_by_state.csv')"
   ]
  },
  {
   "cell_type": "code",
   "execution_count": 10,
   "metadata": {},
   "outputs": [],
   "source": [
    "# Working with h08 csv file\n",
    "###########################\n",
    "\n",
    "df_h08 = pd.DataFrame(h08)\n",
    "\n",
    "\n",
    "# Saving the cleaned csv file\n",
    "# df_h08.to_csv('cleaned_h08.csv')"
   ]
  },
  {
   "cell_type": "code",
   "execution_count": 11,
   "metadata": {},
   "outputs": [],
   "source": [
    "# WORKING WITH evIncentives csv file\n",
    "####################################\n",
    "\n",
    "df_evIncentives = pd.DataFrame(evIncentives)\n",
    "df_evIncentives.reset_index(drop= True, inplace= True)\n",
    "\n",
    "# Saving the cleaned csv file\n",
    "# df_evIncentives.to_csv('cleaned_EVIncentivesbyState.csv')"
   ]
  },
  {
   "cell_type": "code",
   "execution_count": 12,
   "metadata": {},
   "outputs": [],
   "source": [
    "# Working with evRegMerged csv file\n",
    "###################################\n",
    "\n",
    "df_evRegMerged = pd.DataFrame(evRegMerged)\n",
    "\n",
    "# Saving the cleaned csv file\n",
    "# df_evRegMerged.to_csv('cleaned_EVRegMerged.csv')\n"
   ]
  }
 ],
 "metadata": {
  "kernelspec": {
   "display_name": "Python 3",
   "language": "python",
   "name": "python3"
  },
  "language_info": {
   "codemirror_mode": {
    "name": "ipython",
    "version": 3
   },
   "file_extension": ".py",
   "mimetype": "text/x-python",
   "name": "python",
   "nbconvert_exporter": "python",
   "pygments_lexer": "ipython3",
   "version": "3.11.4"
  },
  "orig_nbformat": 4
 },
 "nbformat": 4,
 "nbformat_minor": 2
}
