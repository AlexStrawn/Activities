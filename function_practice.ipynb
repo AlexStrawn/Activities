{
 "cells": [
  {
   "attachments": {},
   "cell_type": "markdown",
   "metadata": {},
   "source": [
    "1. Write a function that accepts 2 string parameters (first_name, last_name) and concatenate the two parameters to return full_name. "
   ]
  },
  {
   "cell_type": "code",
   "execution_count": 26,
   "metadata": {},
   "outputs": [
    {
     "data": {
      "text/plain": [
       "'Alex Strawn'"
      ]
     },
     "execution_count": 26,
     "metadata": {},
     "output_type": "execute_result"
    }
   ],
   "source": [
    "def full_name(firstname,lastname):\n",
    "    return firstname + lastname\n",
    "\n",
    "\n",
    "# create your own test case down here by passing your first name and last name into the function\n",
    "full_name(\"Alex\", \" Strawn\")"
   ]
  },
  {
   "attachments": {},
   "cell_type": "markdown",
   "metadata": {},
   "source": [
    "2. Write a function that accepts two integers as parameters. This function should take those two parameters and multiply them and return the result."
   ]
  },
  {
   "cell_type": "code",
   "execution_count": 8,
   "metadata": {},
   "outputs": [
    {
     "name": "stdout",
     "output_type": "stream",
     "text": [
      "810\n"
     ]
    }
   ],
   "source": [
    "def multiply(x,y):\n",
    "    return x * y \n",
    "\n",
    "# test case \n",
    "\n",
    "multiply(30, 27)"
   ]
  },
  {
   "attachments": {},
   "cell_type": "markdown",
   "metadata": {},
   "source": [
    "3.  Write a function that takes in a string and returns the string with all the vowels\n",
    "    removed (\"aeiouAEIOU\"). Test it using the following code (you should see no output):"
   ]
  },
  {
   "cell_type": "code",
   "execution_count": 19,
   "metadata": {},
   "outputs": [
    {
     "data": {
      "text/plain": [
       "' rlly njy th Dt nlytcs nd Pythn prgrm t SvvyCdrs'"
      ]
     },
     "execution_count": 19,
     "metadata": {},
     "output_type": "execute_result"
    }
   ],
   "source": [
    "def remove_vowels(string):\n",
    "    #hint: initialize and set an empty string to add letters to \n",
    "    new_string = \"\"\n",
    "    for x in string:\n",
    "        if x in \"AEIOUaeiou\":\n",
    "            continue\n",
    "        new_string += x\n",
    "    return new_string\n",
    "\n",
    "#test case \n",
    "string = \"I really enjoy the Data Analytics and Python program at SavvyCoders\"\n",
    "remove_vowels(string)"
   ]
  },
  {
   "attachments": {},
   "cell_type": "markdown",
   "metadata": {},
   "source": [
    "4. Write a function called km_to_miles that takes kilometers as a parameter, converts it into miles and returns the result. 1 km = 0.621371 miles"
   ]
  },
  {
   "cell_type": "code",
   "execution_count": 27,
   "metadata": {},
   "outputs": [
    {
     "data": {
      "text/plain": [
       "31.068550000000002"
      ]
     },
     "execution_count": 27,
     "metadata": {},
     "output_type": "execute_result"
    }
   ],
   "source": [
    "def km_to_miles(value):\n",
    "    km = 0.621371\n",
    "    return value * km\n",
    "\n",
    "\n",
    "#test case \n",
    "km_to_miles(50)"
   ]
  },
  {
   "attachments": {},
   "cell_type": "markdown",
   "metadata": {},
   "source": [
    "5.  Write a function, fizzbuzz, with a single integer argument named value. If the value is evenly divisible by three, return the string “fizz”. It the value is evenly divisible by five, return the string “buzz”. If the value is evenly divisible by both three and five, return fizzbuzz. Finally, if none of these apply, return an empty string."
   ]
  },
  {
   "cell_type": "code",
   "execution_count": 38,
   "metadata": {},
   "outputs": [
    {
     "name": "stdout",
     "output_type": "stream",
     "text": [
      "Fizz,Fizz,Fizz,11,Buzz,Buzz,Buzz,23,FizzBuzz,FizzBuzz,FizzBuzz,"
     ]
    }
   ],
   "source": [
    "def fizzbuzz(value):\n",
    "   if value % 5 == 0 and value % 3 == 0:\n",
    "      return \"FizzBuzz\"\n",
    "   elif value % 5 == 0:\n",
    "         return \"Buzz\"\n",
    "   elif value % 3 == 0:\n",
    "            return \"Fizz\"\n",
    "   else: \n",
    "               return value\n",
    "\n",
    "\n",
    "#test case\n",
    "values = [3,6,9,11,10,20,40,23,15,30,60]\n",
    "\n",
    "for value in values:\n",
    "    print(fizzbuzz(value), end =\", \")"
   ]
  }
 ],
 "metadata": {
  "kernelspec": {
   "display_name": "Python 3",
   "language": "python",
   "name": "python3"
  },
  "language_info": {
   "codemirror_mode": {
    "name": "ipython",
    "version": 3
   },
   "file_extension": ".py",
   "mimetype": "text/x-python",
   "name": "python",
   "nbconvert_exporter": "python",
   "pygments_lexer": "ipython3",
   "version": "3.11.4"
  },
  "orig_nbformat": 4
 },
 "nbformat": 4,
 "nbformat_minor": 2
}
