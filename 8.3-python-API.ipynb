{
 "cells": [
  {
   "cell_type": "code",
   "execution_count": 1,
   "metadata": {},
   "outputs": [],
   "source": [
    "import requests\n",
    "import json\n",
    "from dotenv import load_dotenv\n",
    "import os\n",
    "import pandas as pd"
   ]
  },
  {
   "cell_type": "code",
   "execution_count": 2,
   "metadata": {},
   "outputs": [],
   "source": [
    "response = requests.get('https://jsonplaceholder.typicode.com/posts')"
   ]
  },
  {
   "cell_type": "code",
   "execution_count": null,
   "metadata": {},
   "outputs": [],
   "source": [
    "print(response.text)"
   ]
  },
  {
   "cell_type": "code",
   "execution_count": 6,
   "metadata": {},
   "outputs": [],
   "source": [
    "city = 'Philadelphia'"
   ]
  },
  {
   "cell_type": "code",
   "execution_count": 15,
   "metadata": {},
   "outputs": [],
   "source": [
    "url = f'https://api.openweathermap.org/data/2.5/weather?q={city}&appid={api_key}'"
   ]
  },
  {
   "cell_type": "code",
   "execution_count": null,
   "metadata": {},
   "outputs": [],
   "source": [
    "r = requests.get(url)\n",
    "print(r.text)"
   ]
  },
  {
   "cell_type": "code",
   "execution_count": 7,
   "metadata": {},
   "outputs": [
    {
     "name": "stdout",
     "output_type": "stream",
     "text": [
      "1ca1b0f23be8f03c8c78a8001a3111c7\n",
      "{\"coord\":{\"lon\":-75.1638,\"lat\":39.9523},\"weather\":[{\"id\":800,\"main\":\"Clear\",\"description\":\"clear sky\",\"icon\":\"01n\"}],\"base\":\"stations\",\"main\":{\"temp\":290.97,\"feels_like\":290.92,\"temp_min\":288.83,\"temp_max\":292.68,\"pressure\":1009,\"humidity\":81},\"visibility\":10000,\"wind\":{\"speed\":1.54,\"deg\":260},\"clouds\":{\"all\":0},\"dt\":1695081966,\"sys\":{\"type\":2,\"id\":2011927,\"country\":\"US\",\"sunrise\":1695033854,\"sunset\":1695078343},\"timezone\":-14400,\"id\":4560349,\"name\":\"Philadelphia\",\"cod\":200}\n"
     ]
    }
   ],
   "source": [
    "load_dotenv(dotenv_path='./.env')\n",
    "API_key = os.getenv('API_key')\n",
    "print(API_key)\n",
    "\n",
    "url = f'https://api.openweathermap.org/data/2.5/weather?q={city}&appid={API_key}'\n",
    "\n",
    "r = requests.get(url)\n",
    "print(r.text)"
   ]
  },
  {
   "cell_type": "code",
   "execution_count": 26,
   "metadata": {},
   "outputs": [],
   "source": [
    "#import packages\n",
    "\n",
    "import requests\n",
    "import json\n",
    "from dotenv import load_dotenv\n",
    "import os\n",
    "import pandas as pd"
   ]
  },
  {
   "cell_type": "code",
   "execution_count": 44,
   "metadata": {},
   "outputs": [],
   "source": [
    "load_dotenv(dotenv_path='./.env')\n",
    "API_key = os.getenv('API_key')\n",
    "city = 'San Francisco'\n",
    "units = 'imperial'\n",
    "\n",
    "url = f'https://api.openweathermap.org/data/2.5/weather?q={city}&appid={API_key}&units={units}'"
   ]
  },
  {
   "cell_type": "code",
   "execution_count": 38,
   "metadata": {},
   "outputs": [
    {
     "data": {
      "text/plain": [
       "{'coord': {'lon': -122.4194, 'lat': 37.7749},\n",
       " 'weather': [{'id': 801,\n",
       "   'main': 'Clouds',\n",
       "   'description': 'few clouds',\n",
       "   'icon': '02d'}],\n",
       " 'base': 'stations',\n",
       " 'main': {'temp': 67.15,\n",
       "  'feels_like': 67.19,\n",
       "  'temp_min': 62.82,\n",
       "  'temp_max': 75.45,\n",
       "  'pressure': 1013,\n",
       "  'humidity': 77},\n",
       " 'visibility': 10000,\n",
       " 'wind': {'speed': 16.11, 'deg': 270},\n",
       " 'clouds': {'all': 20},\n",
       " 'dt': 1695084476,\n",
       " 'sys': {'type': 2,\n",
       "  'id': 2017837,\n",
       "  'country': 'US',\n",
       "  'sunrise': 1695045238,\n",
       "  'sunset': 1695089635},\n",
       " 'timezone': -25200,\n",
       " 'id': 5391959,\n",
       " 'name': 'San Francisco',\n",
       " 'cod': 200}"
      ]
     },
     "execution_count": 38,
     "metadata": {},
     "output_type": "execute_result"
    }
   ],
   "source": [
    "r = requests.get(url)\n",
    "data = json.loads(r.text)\n",
    "data"
   ]
  },
  {
   "cell_type": "code",
   "execution_count": 29,
   "metadata": {},
   "outputs": [
    {
     "name": "stdout",
     "output_type": "stream",
     "text": [
      "The temp in San Francisco is currently 68.18 F.\n"
     ]
    }
   ],
   "source": [
    "temp = data['main']['temp']\n",
    "print(f'The temp in {city} is currently {temp} F.')"
   ]
  },
  {
   "cell_type": "code",
   "execution_count": 37,
   "metadata": {},
   "outputs": [
    {
     "data": {
      "text/html": [
       "<div>\n",
       "<style scoped>\n",
       "    .dataframe tbody tr th:only-of-type {\n",
       "        vertical-align: middle;\n",
       "    }\n",
       "\n",
       "    .dataframe tbody tr th {\n",
       "        vertical-align: top;\n",
       "    }\n",
       "\n",
       "    .dataframe thead th {\n",
       "        text-align: right;\n",
       "    }\n",
       "</style>\n",
       "<table border=\"1\" class=\"dataframe\">\n",
       "  <thead>\n",
       "    <tr style=\"text-align: right;\">\n",
       "      <th></th>\n",
       "      <th>id</th>\n",
       "      <th>main</th>\n",
       "      <th>description</th>\n",
       "      <th>icon</th>\n",
       "    </tr>\n",
       "  </thead>\n",
       "  <tbody>\n",
       "    <tr>\n",
       "      <th>0</th>\n",
       "      <td>801</td>\n",
       "      <td>Clouds</td>\n",
       "      <td>few clouds</td>\n",
       "      <td>02d</td>\n",
       "    </tr>\n",
       "  </tbody>\n",
       "</table>\n",
       "</div>"
      ],
      "text/plain": [
       "    id    main description icon\n",
       "0  801  Clouds  few clouds  02d"
      ]
     },
     "execution_count": 37,
     "metadata": {},
     "output_type": "execute_result"
    }
   ],
   "source": [
    "df = pd.DataFrame(data['weather'])\n",
    "df"
   ]
  },
  {
   "cell_type": "code",
   "execution_count": 45,
   "metadata": {},
   "outputs": [
    {
     "name": "stdout",
     "output_type": "stream",
     "text": [
      "{'coord': {'lon': -122.4194, 'lat': 37.7749}, 'weather': [{'id': 801, 'main': 'Clouds', 'description': 'few clouds', 'icon': '02d'}], 'base': 'stations', 'main': {'temp': 67.15, 'feels_like': 67.19, 'temp_min': 62.82, 'temp_max': 75.45, 'pressure': 1013, 'humidity': 77}, 'visibility': 10000, 'wind': {'speed': 16.11, 'deg': 270}, 'clouds': {'all': 20}, 'dt': 1695084476, 'sys': {'type': 2, 'id': 2017837, 'country': 'US', 'sunrise': 1695045238, 'sunset': 1695089635}, 'timezone': -25200, 'id': 5391959, 'name': 'San Francisco', 'cod': 200}\n"
     ]
    }
   ],
   "source": [
    "try:\n",
    "    response = requests.get(url=url)\n",
    "    \n",
    "    if response.status_code == 200:\n",
    "        data = json.loads(response.text)\n",
    "        print(data)\n",
    "    else:\n",
    "        print(f'Request failed with status code: {response.status_code}')\n",
    "except requests.exceptions.RequestException as e:\n",
    "    print('Conncection error occurred:', e)\n"
   ]
  },
  {
   "cell_type": "code",
   "execution_count": 88,
   "metadata": {},
   "outputs": [
    {
     "data": {
      "text/html": [
       "<div>\n",
       "<style scoped>\n",
       "    .dataframe tbody tr th:only-of-type {\n",
       "        vertical-align: middle;\n",
       "    }\n",
       "\n",
       "    .dataframe tbody tr th {\n",
       "        vertical-align: top;\n",
       "    }\n",
       "\n",
       "    .dataframe thead th {\n",
       "        text-align: right;\n",
       "    }\n",
       "</style>\n",
       "<table border=\"1\" class=\"dataframe\">\n",
       "  <thead>\n",
       "    <tr style=\"text-align: right;\">\n",
       "      <th></th>\n",
       "      <th>Charlotte</th>\n",
       "      <th>Columbia</th>\n",
       "      <th>Orlando</th>\n",
       "      <th>Athens</th>\n",
       "      <th>Chicago</th>\n",
       "    </tr>\n",
       "  </thead>\n",
       "  <tbody>\n",
       "    <tr>\n",
       "      <th>temp</th>\n",
       "      <td>61.56</td>\n",
       "      <td>64.47</td>\n",
       "      <td>76.87</td>\n",
       "      <td>71.53</td>\n",
       "      <td>59.88</td>\n",
       "    </tr>\n",
       "    <tr>\n",
       "      <th>feels_like</th>\n",
       "      <td>61.56</td>\n",
       "      <td>64.67</td>\n",
       "      <td>77.68</td>\n",
       "      <td>71.15</td>\n",
       "      <td>59.23</td>\n",
       "    </tr>\n",
       "    <tr>\n",
       "      <th>temp_min</th>\n",
       "      <td>58.48</td>\n",
       "      <td>60.35</td>\n",
       "      <td>71.91</td>\n",
       "      <td>68.58</td>\n",
       "      <td>54.99</td>\n",
       "    </tr>\n",
       "    <tr>\n",
       "      <th>temp_max</th>\n",
       "      <td>64.17</td>\n",
       "      <td>66.16</td>\n",
       "      <td>79.07</td>\n",
       "      <td>73.38</td>\n",
       "      <td>63.18</td>\n",
       "    </tr>\n",
       "    <tr>\n",
       "      <th>pressure</th>\n",
       "      <td>1016.00</td>\n",
       "      <td>1016.00</td>\n",
       "      <td>1014.00</td>\n",
       "      <td>1014.00</td>\n",
       "      <td>1017.00</td>\n",
       "    </tr>\n",
       "    <tr>\n",
       "      <th>humidity</th>\n",
       "      <td>88.00</td>\n",
       "      <td>86.00</td>\n",
       "      <td>73.00</td>\n",
       "      <td>59.00</td>\n",
       "      <td>78.00</td>\n",
       "    </tr>\n",
       "  </tbody>\n",
       "</table>\n",
       "</div>"
      ],
      "text/plain": [
       "            Charlotte  Columbia  Orlando   Athens  Chicago\n",
       "temp            61.56     64.47    76.87    71.53    59.88\n",
       "feels_like      61.56     64.67    77.68    71.15    59.23\n",
       "temp_min        58.48     60.35    71.91    68.58    54.99\n",
       "temp_max        64.17     66.16    79.07    73.38    63.18\n",
       "pressure      1016.00   1016.00  1014.00  1014.00  1017.00\n",
       "humidity        88.00     86.00    73.00    59.00    78.00"
      ]
     },
     "execution_count": 88,
     "metadata": {},
     "output_type": "execute_result"
    }
   ],
   "source": [
    "import requests\n",
    "import json\n",
    "from dotenv import load_dotenv\n",
    "import os\n",
    "import pandas as pd\n",
    "\n",
    "# loading api key and declaring our variables\n",
    "load_dotenv(dotenv_path='./.env')\n",
    "API_key = os.getenv('API_key')\n",
    "units = 'imperial'\n",
    "\n",
    "# loop though cities\n",
    "# initialize empty dict\n",
    "# every city --> make get request\n",
    "# store data['main'] in a dict ---- > dictionary['city'] = data['main']\n",
    "\n",
    "city_list = []\n",
    "count = 5\n",
    "while count > 0:\n",
    "    city = input('Please name a city:')\n",
    "    city_list.append(city)\n",
    "    count -= 1\n",
    "\n",
    "weather = {}\n",
    "\n",
    "for i in city_list:\n",
    "    url = f'https://api.openweathermap.org/data/2.5/weather?q={i}&appid={API_key}&units={units}'\n",
    "    r = requests.get(url=url)\n",
    "    data = json.loads(r.text)\n",
    "    weather[i] = data['main']\n",
    "\n",
    "df = pd.DataFrame(weather)\n",
    "df\n",
    "## declaring url path with our variables\n",
    "# urlL = f'https://api.openweathermap.org/data/2.5/weather?q={L}&appid={API_key}&units={units}'\n",
    "# urlB = f'https://api.openweathermap.org/data/2.5/weather?q={B}&appid={API_key}&units={units}'\n",
    "# urlC = f'https://api.openweathermap.org/data/2.5/weather?q={C}&appid={API_key}&units={units}'\n",
    "# # making the request for the data\n",
    "# rL = requests.get(url=urlL)\n",
    "# rB = requests.get(url=urlB)\n",
    "# rC = requests.get(url=urlC)\n",
    "# stLouis = json.loads(rL.text)\n",
    "# boston = json.loads(rB.text)\n",
    "# columbia = json.loads(rC.text)\n",
    "\n",
    "# data = [stLouis, boston, columbia]\n",
    "# df = pd.DataFrame(data)\n",
    "# df.to_csv('Merged_Weather.csv', index=False)\n"
   ]
  },
  {
   "cell_type": "code",
   "execution_count": 101,
   "metadata": {},
   "outputs": [
    {
     "data": {
      "text/html": [
       "<div>\n",
       "<style scoped>\n",
       "    .dataframe tbody tr th:only-of-type {\n",
       "        vertical-align: middle;\n",
       "    }\n",
       "\n",
       "    .dataframe tbody tr th {\n",
       "        vertical-align: top;\n",
       "    }\n",
       "\n",
       "    .dataframe thead th {\n",
       "        text-align: right;\n",
       "    }\n",
       "</style>\n",
       "<table border=\"1\" class=\"dataframe\">\n",
       "  <thead>\n",
       "    <tr style=\"text-align: right;\">\n",
       "      <th>index</th>\n",
       "      <th>index</th>\n",
       "      <th>temp</th>\n",
       "      <th>feels_like</th>\n",
       "      <th>temp_min</th>\n",
       "      <th>temp_max</th>\n",
       "      <th>pressure</th>\n",
       "      <th>humidity</th>\n",
       "    </tr>\n",
       "  </thead>\n",
       "  <tbody>\n",
       "    <tr>\n",
       "      <th>0</th>\n",
       "      <td>Charlotte</td>\n",
       "      <td>61.56</td>\n",
       "      <td>61.56</td>\n",
       "      <td>58.48</td>\n",
       "      <td>64.17</td>\n",
       "      <td>1016.0</td>\n",
       "      <td>88.0</td>\n",
       "    </tr>\n",
       "    <tr>\n",
       "      <th>1</th>\n",
       "      <td>Columbia</td>\n",
       "      <td>64.47</td>\n",
       "      <td>64.67</td>\n",
       "      <td>60.35</td>\n",
       "      <td>66.16</td>\n",
       "      <td>1016.0</td>\n",
       "      <td>86.0</td>\n",
       "    </tr>\n",
       "    <tr>\n",
       "      <th>2</th>\n",
       "      <td>Orlando</td>\n",
       "      <td>76.87</td>\n",
       "      <td>77.68</td>\n",
       "      <td>71.91</td>\n",
       "      <td>79.07</td>\n",
       "      <td>1014.0</td>\n",
       "      <td>73.0</td>\n",
       "    </tr>\n",
       "    <tr>\n",
       "      <th>3</th>\n",
       "      <td>Athens</td>\n",
       "      <td>71.53</td>\n",
       "      <td>71.15</td>\n",
       "      <td>68.58</td>\n",
       "      <td>73.38</td>\n",
       "      <td>1014.0</td>\n",
       "      <td>59.0</td>\n",
       "    </tr>\n",
       "    <tr>\n",
       "      <th>4</th>\n",
       "      <td>Chicago</td>\n",
       "      <td>59.88</td>\n",
       "      <td>59.23</td>\n",
       "      <td>54.99</td>\n",
       "      <td>63.18</td>\n",
       "      <td>1017.0</td>\n",
       "      <td>78.0</td>\n",
       "    </tr>\n",
       "  </tbody>\n",
       "</table>\n",
       "</div>"
      ],
      "text/plain": [
       "index      index   temp feels_like temp_min temp_max pressure humidity\n",
       "0      Charlotte  61.56      61.56    58.48    64.17   1016.0     88.0\n",
       "1       Columbia  64.47      64.67    60.35    66.16   1016.0     86.0\n",
       "2        Orlando  76.87      77.68    71.91    79.07   1014.0     73.0\n",
       "3         Athens  71.53      71.15    68.58    73.38   1014.0     59.0\n",
       "4        Chicago  59.88      59.23    54.99    63.18   1017.0     78.0"
      ]
     },
     "execution_count": 101,
     "metadata": {},
     "output_type": "execute_result"
    }
   ],
   "source": [
    "x = df.transpose()\n",
    "x.columns = x.iloc[0]\n",
    "x = x[1:]\n",
    "x = x.reset_index()\n",
    "x\n",
    "# x.to_csv('current_temp.csv')\n"
   ]
  },
  {
   "cell_type": "code",
   "execution_count": 73,
   "metadata": {},
   "outputs": [
    {
     "data": {
      "text/plain": [
       "0    {'temp': 66.87, 'feels_like': 66.16, 'temp_min...\n",
       "1    {'temp': 64.44, 'feels_like': 64.96, 'temp_min...\n",
       "2    {'temp': 65.89, 'feels_like': 66.13, 'temp_min...\n",
       "Name: main, dtype: object"
      ]
     },
     "execution_count": 73,
     "metadata": {},
     "output_type": "execute_result"
    }
   ],
   "source": [
    "merged = pd.read_csv('./Merged_Weather.csv')\n",
    "merged['main']"
   ]
  }
 ],
 "metadata": {
  "kernelspec": {
   "display_name": "Python 3",
   "language": "python",
   "name": "python3"
  },
  "language_info": {
   "codemirror_mode": {
    "name": "ipython",
    "version": 3
   },
   "file_extension": ".py",
   "mimetype": "text/x-python",
   "name": "python",
   "nbconvert_exporter": "python",
   "pygments_lexer": "ipython3",
   "version": "3.11.4"
  },
  "orig_nbformat": 4
 },
 "nbformat": 4,
 "nbformat_minor": 2
}
