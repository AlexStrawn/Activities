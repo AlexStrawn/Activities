{
 "cells": [
  {
   "cell_type": "code",
   "execution_count": null,
   "metadata": {},
   "outputs": [],
   "source": [
    "nums = range(1,101)\n",
    "\n",
    "for i in nums:\n",
    "    if i % 3 == 0 and i % 5 == 0: \n",
    "        print(\"FIZZBUZZ\")\n",
    "    elif i % 3 == 0:\n",
    "        print(\"FIZZ\")\n",
    "    elif i % 5 == 0:\n",
    "        print(\"BUZZ\")\n",
    "    else: \n",
    "        print(i)\n"
   ]
  }
 ],
 "metadata": {
  "kernelspec": {
   "display_name": "Python 3",
   "language": "python",
   "name": "python3"
  },
  "language_info": {
   "codemirror_mode": {
    "name": "ipython",
    "version": 3
   },
   "file_extension": ".py",
   "mimetype": "text/x-python",
   "name": "python",
   "nbconvert_exporter": "python",
   "pygments_lexer": "ipython3",
   "version": "3.11.4"
  }
 },
 "nbformat": 4,
 "nbformat_minor": 2
}
