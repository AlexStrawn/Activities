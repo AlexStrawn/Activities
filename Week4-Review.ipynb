{
 "cells": [
  {
   "cell_type": "code",
   "execution_count": 3,
   "metadata": {},
   "outputs": [
    {
     "name": "stdout",
     "output_type": "stream",
     "text": [
      "No bumber stickers for you.\n"
     ]
    }
   ],
   "source": [
    "#Create an if statement: if 'AVGgrade' is greater than or equal to 80, print \"You're on the honor roll\"\n",
    "#however if 'grade' is less than 80, print \"No bumper stickers for you\"\n",
    "\n",
    "grade = input(\"Please enter your grade here\")\n",
    "\n",
    "try:\n",
    "    g = float(grade)\n",
    "    if g >= 80: \n",
    "        print(\"You're on the Honor Roll.\")\n",
    "    elif g < 80:\n",
    "        print(\"No bumber stickers for you.\")\n",
    "except ValueError:\n",
    "    print(\"Please enter a numerical grade.\")"
   ]
  },
  {
   "cell_type": "code",
   "execution_count": 8,
   "metadata": {},
   "outputs": [
    {
     "name": "stdout",
     "output_type": "stream",
     "text": [
      "31\n",
      "i \n",
      "o \n",
      "a \n",
      "u \n",
      "a \n",
      ", \n",
      "u \n",
      "e \n",
      "o \n",
      ". \n"
     ]
    }
   ],
   "source": [
    "#Loop over the following string to (1) count all the characters in the string, excluding the spaces, and (2) print out all the vowels and punctuation\n",
    "# \"Sphinx of black quartz, judge my vow.\"\n",
    "\n",
    "a = \"Sphinx of black quartz, judge my vow.\"\n",
    "c = 0\n",
    "\n",
    "for i in a:\n",
    "    if i != \" \":\n",
    "        c += 1\n",
    "    else:\n",
    "        continue\n",
    "print(c)\n",
    "\n",
    "for i in a:\n",
    "    if i in \"AEIOUaeiou,.\":\n",
    "        print(i)\n",
    "    else:\n",
    "        continue"
   ]
  },
  {
   "cell_type": "code",
   "execution_count": 22,
   "metadata": {},
   "outputs": [
    {
     "name": "stdout",
     "output_type": "stream",
     "text": [
      "['Captain America', 'Captain Marvel', 'Black Panther', 'Batgirl', 'Green Lantern', 'Iron Man', 'Thor', 'Spiderman', 'Wonder Woman']\n",
      "\n",
      "\n",
      "['Batgirl' 'Black Panther' 'Captain America' 'Captain Marvel'\n",
      " 'Green Lantern' 'Iron Man' 'Spiderman' 'Thor' 'Wonder Woman']\n",
      "\n",
      "\n",
      "['Captain America', 'Captain Marvel', 'Black Panther', 'Batgirl', 'Green Lantern', 'Iron Man', 'Thor', 'Spiderman', 'Wonder Woman', 'Catwoman', 'Ant-Man', 'Aquaman']\n",
      "\n",
      "\n",
      "['Captain America', 'Captain Marvel', 'Black Panther', 'Batgirl', 'Green Lantern', 'Daredevil', 'Thor', 'Spiderman', 'Wonder Woman', 'Catwoman', 'Ant-Man', 'Aquaman']\n",
      "\n",
      "\n",
      "['Spiderman', 'Wonder Woman']\n"
     ]
    }
   ],
   "source": [
    "# 1. Use the insert method to add \"Spiderman\" as the 8th item in the heroes list. \n",
    "#[\"Captain America\", \"Captain Marvel\", \"Black Panther\", \"Batgirl\", \"Green Lantern\", \"Iron Man\", \"Thor\", \"Wonder Woman\"]\n",
    "# 2. Sort the list of heroes\n",
    "# 3. Append \"Catwoman\", \"Ant-Man\", and \"Aquaman\"\n",
    "# 4. Change \"Iron Man\" to \"Daredevil\"\n",
    "# 5. Use negative indexing to print the 5th and 4th last items\n",
    "\n",
    "import numpy as np\n",
    "import pandas as pd\n",
    "\n",
    "heroes = [\"Captain America\", \"Captain Marvel\", \"Black Panther\", \"Batgirl\", \"Green Lantern\", \"Iron Man\", \"Thor\", \"Wonder Woman\"]\n",
    "#inserting Spiderman as the 8th hero and showing the result\n",
    "heroes.insert(7, \"Spiderman\")\n",
    "print(heroes)\n",
    "\n",
    "print(\"\\n\")\n",
    "\n",
    "#sorting the heroes list into a new list called x \n",
    "x = np.sort(heroes)\n",
    "print(x)\n",
    "\n",
    "print(\"\\n\")\n",
    "\n",
    "#appending \"Catwoman\", \"Ant-Man\", and \"Aquaman\" to the list 'heroes' and printing the results\n",
    "heroes.append(\"Catwoman\")\n",
    "heroes.append(\"Ant-Man\")\n",
    "heroes.append(\"Aquaman\")\n",
    "print(heroes)\n",
    "\n",
    "print(\"\\n\")\n",
    "\n",
    "#Changing Iron Man to Daredevil and printing the results \n",
    "heroes[5] = \"Daredevil\"\n",
    "print(heroes)\n",
    "\n",
    "print(\"\\n\")\n",
    "\n",
    "#Use negative indexing to print the 5th and 4th last items\n",
    "print(heroes[-5:-3])\n",
    "\n",
    "\n"
   ]
  },
  {
   "cell_type": "code",
   "execution_count": 30,
   "metadata": {},
   "outputs": [
    {
     "name": "stdout",
     "output_type": "stream",
     "text": [
      "2023-08-24 18:51:09.315428\n",
      "Current week:  34\n",
      "Current weekday: Thursday\n"
     ]
    }
   ],
   "source": [
    "# Using the Date Time module, get the current date and time\n",
    "# Print the current week number of the year\n",
    "# Print the full weekday name\n",
    "\n",
    "import datetime as dt\n",
    "\n",
    "t = dt.datetime.now()\n",
    "print(t)\n",
    "print(\"Current week: \", t.strftime(\"%U\"))\n",
    "print(\"Current weekday:\", t.strftime(\"%A\"))\n"
   ]
  },
  {
   "cell_type": "code",
   "execution_count": 34,
   "metadata": {},
   "outputs": [
    {
     "name": "stdout",
     "output_type": "stream",
     "text": [
      "14.0\n",
      "68719476736.0\n"
     ]
    }
   ],
   "source": [
    "# Using the Math Module, find the remainder when 11 is divided by 8\n",
    "#Find the square root of 196\n",
    "#Find what is 8 to the power of 12\n",
    "\n",
    "import math\n",
    "\n",
    "x = 196\n",
    "print(math.sqrt(x))\n",
    "e = 8\n",
    "print(math.pow(e,12))\n"
   ]
  }
 ],
 "metadata": {
  "kernelspec": {
   "display_name": "Python 3",
   "language": "python",
   "name": "python3"
  },
  "language_info": {
   "codemirror_mode": {
    "name": "ipython",
    "version": 3
   },
   "file_extension": ".py",
   "mimetype": "text/x-python",
   "name": "python",
   "nbconvert_exporter": "python",
   "pygments_lexer": "ipython3",
   "version": "3.11.4"
  },
  "orig_nbformat": 4
 },
 "nbformat": 4,
 "nbformat_minor": 2
}
