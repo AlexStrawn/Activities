{
 "cells": [
  {
   "cell_type": "markdown",
   "metadata": {},
   "source": [
    "### [__Questions__](https://where.matsinet.codes/presentations/bootcampers-series/interview-whiteboard-exercise-python/#/9) found here!"
   ]
  },
  {
   "cell_type": "code",
   "execution_count": 15,
   "metadata": {},
   "outputs": [
    {
     "name": "stdout",
     "output_type": "stream",
     "text": [
      "180\n"
     ]
    }
   ],
   "source": [
    "# Question 1\n",
    "# Write a function that takes in two integers and returns their sum, \n",
    "# unless the two integers are equal. If the two integers are equal, then return three times their sum.\n",
    "\n",
    "def sum2Integers(x,y):\n",
    "    if x != y:\n",
    "        print(x + y)\n",
    "    elif x == y:\n",
    "        print((x + y)* 3)\n",
    "    \n",
    "sum2Integers(30,30)"
   ]
  },
  {
   "cell_type": "code",
   "execution_count": 24,
   "metadata": {},
   "outputs": [
    {
     "name": "stdout",
     "output_type": "stream",
     "text": [
      "235\n"
     ]
    }
   ],
   "source": [
    "# Question 2\n",
    "#Write a function that takes in integers and returns the integer with the highest value.\n",
    "#(Do NOT use Math.max()!!!)\n",
    "\n",
    "def findHighest(numArray):\n",
    "    high = numArray[0] \n",
    "    for num in numArray:\n",
    "        if num > high:\n",
    "            high = num\n",
    "    print(high)\n",
    "\n",
    "findHighest([1,2,3,10,4,3,5,235,6,42,6,2,5,6,8,2,64,3,4,53,35,2,5])\n",
    "     \n"
   ]
  },
  {
   "cell_type": "code",
   "execution_count": 54,
   "metadata": {},
   "outputs": [
    {
     "name": "stdout",
     "output_type": "stream",
     "text": [
      "3 is less than 5.\n"
     ]
    }
   ],
   "source": [
    "# Question 3\n",
    "# Write a function that generates a random number between 0-10.\n",
    "# If the number is greater than 5, log “{number} is greater than five!”.\n",
    "# If it is less than 5, log “{number} is less than five!”\n",
    "import random\n",
    "\n",
    "def isFive():\n",
    "    x = random.randrange(1,21)\n",
    "    if x > 5:\n",
    "        print(f\"{x} is greater than 5.\")\n",
    "    elif x < 5:\n",
    "        print(f\"{x} is less than 5.\")\n",
    "    elif x == 5:\n",
    "        print(f\"{x} is 5!\")\n",
    "\n",
    "isFive()\n"
   ]
  },
  {
   "cell_type": "code",
   "execution_count": 7,
   "metadata": {},
   "outputs": [
    {
     "name": "stdout",
     "output_type": "stream",
     "text": [
      "3\n"
     ]
    }
   ],
   "source": [
    "# Question 4 \n",
    "# Write a function that counts the number of vowels in a string.\n",
    "# The vowels are \"a\", \"e\", \"i\", \"o\" & \"u\"\n",
    "\n",
    "def countVowels():\n",
    "    string = input()\n",
    "    count = 0\n",
    "    for x in string:\n",
    "        if x.lower() in \"aeiou\":\n",
    "            count += 1\n",
    "    print(count) \n",
    "\n",
    "countVowels()"
   ]
  },
  {
   "cell_type": "code",
   "execution_count": 10,
   "metadata": {},
   "outputs": [
    {
     "name": "stdout",
     "output_type": "stream",
     "text": [
      "True!\n"
     ]
    }
   ],
   "source": [
    "# Question 5\n",
    "# Write a function that determines if a string is a palindrome.\n",
    "# A palindrome is a string that is the same forward and backwards.\n",
    "\n",
    "# Take in an input of a str value\n",
    "\n",
    "def isPalindrome():\n",
    "     a = input()\n",
    "     b = a.lower()\n",
    "     if b == b[::-1]:\n",
    "        print(\"True!\")\n",
    "     elif b != b[::-1]: \n",
    "        print(\"False..\")\n",
    "isPalindrome()\n",
    "\n",
    "# Call the input and compare it to the input but in reverse.. \n",
    "# and print True if the input is a palindrome, false if it is not. \n",
    "\n",
    "# a = input()\n",
    "\n",
    "# if a == a[::-1]:\n",
    "#     print(\"True!\")\n",
    "# elif a != a[::-1]:\n",
    "#     print(\"False..\")\n",
    "\n",
    "# a = input()\n",
    "# b = a.lower()\n",
    "\n",
    "# if b == b[::-1]:\n",
    "#     print(\"True!\")\n",
    "# elif b != b[::-1]:\n",
    "#     print(\"False..\")"
   ]
  }
 ],
 "metadata": {
  "kernelspec": {
   "display_name": "Python 3",
   "language": "python",
   "name": "python3"
  },
  "language_info": {
   "codemirror_mode": {
    "name": "ipython",
    "version": 3
   },
   "file_extension": ".py",
   "mimetype": "text/x-python",
   "name": "python",
   "nbconvert_exporter": "python",
   "pygments_lexer": "ipython3",
   "version": "3.11.4"
  },
  "orig_nbformat": 4
 },
 "nbformat": 4,
 "nbformat_minor": 2
}
