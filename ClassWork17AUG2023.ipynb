{
 "cells": [
  {
   "cell_type": "code",
   "execution_count": 41,
   "metadata": {},
   "outputs": [
    {
     "name": "stdout",
     "output_type": "stream",
     "text": [
      "-2.0 is an even number\n"
     ]
    }
   ],
   "source": [
    "# 1. Write a program which asks the user for a whole number. If the inputted number is odd print ‘Odd’, if not ('else') print ‘Even’.\n",
    " # Bonus: Ensure the program can run if something other than a whole number (integer) is entered by the user, providing a message that \"This is not a whole number.\"\n",
    "\n",
    "whole_number = float(input(\"Please provide a whole number.\"))\n",
    "\n",
    " \n",
    "if whole_number % 2 == 1:\n",
    "    print(f\"{whole_number} is an odd number\")\n",
    "elif whole_number % 2 == 0:\n",
    "    print(f\"{whole_number} is an even number\")\n",
    "else:\n",
    "    print(\"This is not a whole number.\")\n",
    "\n",
    "# This program does not complete the BONUS requirement\n"
   ]
  },
  {
   "cell_type": "code",
   "execution_count": 36,
   "metadata": {},
   "outputs": [
    {
     "name": "stdout",
     "output_type": "stream",
     "text": [
      "1650160 is an even number\n"
     ]
    }
   ],
   "source": [
    "# This works no matter what you input and therefore fulfills the requirements in the BONUS above.\n",
    "\n",
    "whole_number = input(\"Please provide a whole number.\")\n",
    "\n",
    "try: \n",
    "    num = int(whole_number)\n",
    "\n",
    "    if num % 2 == 1:\n",
    "        print(f\"{num} is an odd number\")\n",
    "    elif num % 2 == 0:\n",
    "        print(f\"{num} is an even number\")\n",
    "    else:\n",
    "        print(\"This is not a whole number.\")\n",
    "except ValueError: \n",
    "    print(\"This is not a whole number.\")\n",
    "\n"
   ]
  },
  {
   "cell_type": "code",
   "execution_count": 2,
   "metadata": {},
   "outputs": [
    {
     "name": "stdout",
     "output_type": "stream",
     "text": [
      "1 2 3 4 5 6 7 8 9 10 11 12 13 14 15 \n",
      "\n",
      "3 6 9 12 15 "
     ]
    }
   ],
   "source": [
    "#    2. Write a program to print counting from 1 to 15.\n",
    "#    Bonus: Print only every 3rd number (3, 6, 9...)\n",
    "\n",
    "for x in range(1,16):\n",
    "    print(x, end=\" \")\n",
    "\n",
    "print(\"\\n\")\n",
    "\n",
    "#BONUS\n",
    "for i in range(3,16,3):\n",
    "    print(i, end=\" \")"
   ]
  },
  {
   "cell_type": "markdown",
   "metadata": {},
   "source": [
    "## This section will be going through the below Exercises\n",
    "\n",
    "[Python Flow Control Exercises](https://github.com/AdamRKlima/TA-Notes-and-Needed-Updates/blob/main/TA-Notes/Needed%20Updates/Python_Flow_Control_Exercises_Students.md)"
   ]
  },
  {
   "cell_type": "code",
   "execution_count": 4,
   "metadata": {},
   "outputs": [
    {
     "name": "stdout",
     "output_type": "stream",
     "text": [
      "1\n",
      "2\n",
      "3\n",
      "4\n",
      "5\n",
      "6\n",
      "7\n",
      "8\n",
      "9\n",
      "10\n"
     ]
    }
   ],
   "source": [
    "# 1. Using a for loop write a block of Pyhton code \n",
    "# so that your output looks like : \n",
    "# (picture shows 1-10 with each number on its own line)\n",
    "\n",
    "for x in range(1,11):\n",
    "    print(x)"
   ]
  },
  {
   "cell_type": "code",
   "execution_count": 14,
   "metadata": {},
   "outputs": [
    {
     "name": "stdout",
     "output_type": "stream",
     "text": [
      "1\n",
      "2\n",
      "3\n",
      "4\n",
      "5\n",
      "6\n",
      "7\n",
      "8\n",
      "9\n",
      "10\n"
     ]
    }
   ],
   "source": [
    "# 2. Using a while loop, try to get the same results as above\n",
    "\n",
    "x = 1\n",
    "\n",
    "while x <= 10:\n",
    "    print(x)\n",
    "    x += 1\n",
    "    "
   ]
  },
  {
   "cell_type": "code",
   "execution_count": 35,
   "metadata": {},
   "outputs": [
    {
     "name": "stdout",
     "output_type": "stream",
     "text": [
      "0 4 8 12 16 20 24 28 32 36 40 44 48 52 56 60 64 68 72 76 80 84 88 92 96 "
     ]
    }
   ],
   "source": [
    "# 3. Using a for statement and a nested if statement,\n",
    "# create a block of code that shows the numbers that are divisible by 4. \n",
    "# For this use the range from 1-100\n",
    "\n",
    "for i in range(0, 100):\n",
    "    if i % 4 == 0:\n",
    "        print(i, end=\" \")"
   ]
  },
  {
   "cell_type": "code",
   "execution_count": 19,
   "metadata": {},
   "outputs": [
    {
     "name": "stdout",
     "output_type": "stream",
     "text": [
      "o i e a e o e I a a i o E A o e "
     ]
    }
   ],
   "source": [
    "# 4. Using the string \"Python is pretty awesome. I can't wait to LEARN more\", \n",
    "# print each vowel by using a for and nested if statement\n",
    "\n",
    "string = \"Python is pretty awesome. I can't wait to LEARN more\"\n",
    "\n",
    "for i in string:\n",
    "    if i in \"AEIOUaeiou\":\n",
    "        print(i, end=\" \")\n",
    "\n"
   ]
  },
  {
   "cell_type": "code",
   "execution_count": 22,
   "metadata": {},
   "outputs": [
    {
     "name": "stdout",
     "output_type": "stream",
     "text": [
      "Ruby Red Corvette\n",
      "Ruby Red Camaro\n",
      "Ruby Red Mustang\n",
      "Ruby Red Viper\n",
      "Ruby Red Charger\n",
      "Python Green Corvette\n",
      "Python Green Camaro\n",
      "Python Green Mustang\n",
      "Python Green Viper\n",
      "Python Green Charger\n",
      "Java Brown Corvette\n",
      "Java Brown Camaro\n",
      "Java Brown Mustang\n",
      "Java Brown Viper\n",
      "Java Brown Charger\n",
      "C++ Yellow Corvette\n",
      "C++ Yellow Camaro\n",
      "C++ Yellow Mustang\n",
      "C++ Yellow Viper\n",
      "C++ Yellow Charger\n",
      "Full Stack Rainbow Corvette\n",
      "Full Stack Rainbow Camaro\n",
      "Full Stack Rainbow Mustang\n",
      "Full Stack Rainbow Viper\n",
      "Full Stack Rainbow Charger\n",
      "Savvy Coders Blue Corvette\n",
      "Savvy Coders Blue Camaro\n",
      "Savvy Coders Blue Mustang\n",
      "Savvy Coders Blue Viper\n",
      "Savvy Coders Blue Charger\n"
     ]
    }
   ],
   "source": [
    "# 5. using the following, print out all combinations of cars and colors\n",
    "\n",
    "cars = ['Corvette', 'Camaro', 'Mustang', 'Viper', 'Charger']\n",
    "color = ['Ruby Red', 'Python Green', 'Java Brown', 'C++ Yellow', 'Full Stack Rainbow','Savvy Coders Blue']\n",
    "\n",
    "for x in color:\n",
    "\tfor y in cars:\n",
    "\t\tprint(x,y)"
   ]
  },
  {
   "cell_type": "markdown",
   "metadata": {},
   "source": [
    "6. __What is the first step in using a module?__\n",
    "      * *You must import the module.*"
   ]
  },
  {
   "cell_type": "code",
   "execution_count": 31,
   "metadata": {},
   "outputs": [
    {
     "name": "stdout",
     "output_type": "stream",
     "text": [
      "Take care of your body so it doesn't hurt\n"
     ]
    }
   ],
   "source": [
    "# 7.Write a block of code that does the following\n",
    "# - Asks for the users year of birth\n",
    "# - Returns: \"Your body really hurts\" for users born before 1980,\"Your back hurts\" for users born between the start of 1980 and the end 0f 1989,\n",
    "#  \"Your back is starting to hurt\" for users born between the beginning of 1990 and the end of 1999, \n",
    "# and \"Take care of your body so it doesn't hurt\" for all users born after the start of 2000\n",
    "\n",
    "birthyear = input(\"What is your birthyear?\")\n",
    "\n",
    "try:\n",
    "    a = int(birthyear)\n",
    "\n",
    "    if a < 1980:\n",
    "        print(\"Your body really hurts\")\n",
    "    elif a == 1980 or a < 1990:\n",
    "        print(\"Your back hurts\")\n",
    "    elif a == 1990 or a < 2000:\n",
    "        print(\"Your back is starting to hurt\")\n",
    "    elif a >= 2000:\n",
    "        print(\"Take care of your body so it doesn't hurt\")\n",
    "except ValueError:\n",
    "    print(\"Please enter a valid year\")"
   ]
  }
 ],
 "metadata": {
  "kernelspec": {
   "display_name": "Python 3",
   "language": "python",
   "name": "python3"
  },
  "language_info": {
   "codemirror_mode": {
    "name": "ipython",
    "version": 3
   },
   "file_extension": ".py",
   "mimetype": "text/x-python",
   "name": "python",
   "nbconvert_exporter": "python",
   "pygments_lexer": "ipython3",
   "version": "3.11.4"
  },
  "orig_nbformat": 4
 },
 "nbformat": 4,
 "nbformat_minor": 2
}
